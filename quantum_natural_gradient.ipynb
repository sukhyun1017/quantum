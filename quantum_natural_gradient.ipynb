{
  "nbformat": 4,
  "nbformat_minor": 0,
  "metadata": {
    "colab": {
      "provenance": [],
      "authorship_tag": "ABX9TyN5UPtHBoGzQzuUdFBdM5Ll",
      "include_colab_link": true
    },
    "kernelspec": {
      "name": "python3",
      "display_name": "Python 3"
    },
    "language_info": {
      "name": "python"
    }
  },
  "cells": [
    {
      "cell_type": "markdown",
      "metadata": {
        "id": "view-in-github",
        "colab_type": "text"
      },
      "source": [
        "<a href=\"https://colab.research.google.com/github/sukhyun1017/quantum/blob/main/quantum_natural_gradient.ipynb\" target=\"_parent\"><img src=\"https://colab.research.google.com/assets/colab-badge.svg\" alt=\"Open In Colab\"/></a>"
      ]
    },
    {
      "cell_type": "code",
      "source": [
        "pip install pennylane"
      ],
      "metadata": {
        "colab": {
          "base_uri": "https://localhost:8080/"
        },
        "id": "RLWRd6BZufBm",
        "outputId": "d471a73d-1751-4312-8078-7333ccc5df9b"
      },
      "execution_count": null,
      "outputs": [
        {
          "output_type": "stream",
          "name": "stdout",
          "text": [
            "Looking in indexes: https://pypi.org/simple, https://us-python.pkg.dev/colab-wheels/public/simple/\n",
            "Collecting pennylane\n",
            "  Downloading PennyLane-0.23.1-py3-none-any.whl (914 kB)\n",
            "\u001b[K     |████████████████████████████████| 914 kB 9.0 MB/s \n",
            "\u001b[?25hRequirement already satisfied: cachetools in /usr/local/lib/python3.7/dist-packages (from pennylane) (4.2.4)\n",
            "Requirement already satisfied: autograd in /usr/local/lib/python3.7/dist-packages (from pennylane) (1.4)\n",
            "Requirement already satisfied: numpy in /usr/local/lib/python3.7/dist-packages (from pennylane) (1.21.6)\n",
            "Collecting toml\n",
            "  Downloading toml-0.10.2-py2.py3-none-any.whl (16 kB)\n",
            "Collecting retworkx\n",
            "  Downloading retworkx-0.11.0-cp37-cp37m-manylinux_2_5_x86_64.manylinux1_x86_64.manylinux_2_12_x86_64.manylinux2010_x86_64.whl (1.6 MB)\n",
            "\u001b[K     |████████████████████████████████| 1.6 MB 48.8 MB/s \n",
            "\u001b[?25hRequirement already satisfied: scipy in /usr/local/lib/python3.7/dist-packages (from pennylane) (1.4.1)\n",
            "Collecting autoray>=0.3.1\n",
            "  Downloading autoray-0.3.1-py3-none-any.whl (36 kB)\n",
            "Collecting pennylane-lightning>=0.23\n",
            "  Downloading PennyLane_Lightning-0.23.0-cp37-cp37m-manylinux_2_17_x86_64.manylinux2014_x86_64.whl (8.8 MB)\n",
            "\u001b[K     |████████████████████████████████| 8.8 MB 1.3 MB/s \n",
            "\u001b[?25hCollecting semantic-version==2.6\n",
            "  Downloading semantic_version-2.6.0-py3-none-any.whl (14 kB)\n",
            "Requirement already satisfied: appdirs in /usr/local/lib/python3.7/dist-packages (from pennylane) (1.4.4)\n",
            "Requirement already satisfied: networkx in /usr/local/lib/python3.7/dist-packages (from pennylane) (2.6.3)\n",
            "Collecting ninja\n",
            "  Downloading ninja-1.10.2.3-py2.py3-none-manylinux_2_5_x86_64.manylinux1_x86_64.whl (108 kB)\n",
            "\u001b[K     |████████████████████████████████| 108 kB 71.7 MB/s \n",
            "\u001b[?25hRequirement already satisfied: future>=0.15.2 in /usr/local/lib/python3.7/dist-packages (from autograd->pennylane) (0.16.0)\n",
            "Installing collected packages: ninja, toml, semantic-version, retworkx, pennylane-lightning, autoray, pennylane\n",
            "Successfully installed autoray-0.3.1 ninja-1.10.2.3 pennylane-0.23.1 pennylane-lightning-0.23.0 retworkx-0.11.0 semantic-version-2.6.0 toml-0.10.2\n"
          ]
        }
      ]
    },
    {
      "cell_type": "code",
      "execution_count": null,
      "metadata": {
        "id": "i3HBsBaLuaUU"
      },
      "outputs": [],
      "source": [
        "import matplotlib.pyplot as plt\n",
        "from pennylane import numpy as np\n",
        "import pennylane as qml\n"
      ]
    },
    {
      "cell_type": "code",
      "source": [
        "dev = qml.device(\"default.qubit\", wires=1)"
      ],
      "metadata": {
        "id": "C4C2pT65udkd"
      },
      "execution_count": null,
      "outputs": []
    },
    {
      "cell_type": "code",
      "source": [
        "def circuit(params, wires=0):\n",
        "    qml.RX(params[0], wires=wires)\n",
        "    qml.RY(params[1], wires=wires)"
      ],
      "metadata": {
        "id": "vpvWT5x4uiwn"
      },
      "execution_count": null,
      "outputs": []
    },
    {
      "cell_type": "code",
      "source": [
        "coeffs = [1, 1]\n",
        "obs = [qml.PauliX(0), qml.PauliZ(0)]\n",
        "\n",
        "H = qml.Hamiltonian(coeffs, obs)\n",
        "\n",
        "@qml.qnode(dev)\n",
        "def cost_fn(params):\n",
        "    circuit(params)\n",
        "    return qml.expval(H)"
      ],
      "metadata": {
        "id": "HLHmcT0NukFl"
      },
      "execution_count": null,
      "outputs": []
    },
    {
      "cell_type": "code",
      "source": [
        "init_params = np.array([3.97507603, 3.00854038], requires_grad=True)"
      ],
      "metadata": {
        "id": "3SBsC2Pnul7Y"
      },
      "execution_count": null,
      "outputs": []
    },
    {
      "cell_type": "code",
      "source": [
        "max_iterations = 500\n",
        "conv_tol = 1e-06\n",
        "step_size = 0.01"
      ],
      "metadata": {
        "id": "fu4qhc3Nungw"
      },
      "execution_count": null,
      "outputs": []
    },
    {
      "cell_type": "code",
      "source": [
        "opt = qml.GradientDescentOptimizer(stepsize=step_size)\n",
        "\n",
        "params = init_params\n",
        "\n",
        "gd_param_history = [params]\n",
        "gd_cost_history = []\n",
        "\n",
        "for n in range(max_iterations):\n",
        "\n",
        "    # Take step\n",
        "    params, prev_energy = opt.step_and_cost(cost_fn, params)\n",
        "    gd_param_history.append(params)\n",
        "    gd_cost_history.append(prev_energy)\n",
        "\n",
        "    energy = cost_fn(params)\n",
        "\n",
        "    # Calculate difference between new and old energies\n",
        "    conv = np.abs(energy - prev_energy)\n",
        "\n",
        "    if n % 20 == 0:\n",
        "        print(\n",
        "            \"Iteration = {:},  Energy = {:.8f} Ha,  Convergence parameter = {\"\n",
        "            \":.8f} Ha\".format(n, energy, conv)\n",
        "        )\n",
        "\n",
        "    if conv <= conv_tol:\n",
        "      break\n",
        "      \n",
        "print()\n",
        "print(\"Final value of the energy = {:.8f} Ha\".format(energy))\n",
        "print(\"Number of iterations = \", n)"
      ],
      "metadata": {
        "colab": {
          "base_uri": "https://localhost:8080/"
        },
        "id": "5WS-YDkAusEn",
        "outputId": "0fbff7a6-7ece-4a10-a07f-8557290bba37"
      },
      "execution_count": null,
      "outputs": [
        {
          "output_type": "stream",
          "name": "stdout",
          "text": [
            "Iteration = 0,  Energy = 0.56743624 Ha,  Convergence parameter = 0.00973536 Ha\n",
            "Iteration = 20,  Energy = 0.38709233 Ha,  Convergence parameter = 0.00821261 Ha\n",
            "Iteration = 40,  Energy = 0.24420954 Ha,  Convergence parameter = 0.00616395 Ha\n",
            "Iteration = 60,  Energy = 0.14079686 Ha,  Convergence parameter = 0.00435028 Ha\n",
            "Iteration = 80,  Energy = 0.06758408 Ha,  Convergence parameter = 0.00314443 Ha\n",
            "Iteration = 100,  Energy = 0.01128048 Ha,  Convergence parameter = 0.00262544 Ha\n",
            "Iteration = 120,  Energy = -0.04175219 Ha,  Convergence parameter = 0.00278160 Ha\n",
            "Iteration = 140,  Energy = -0.10499504 Ha,  Convergence parameter = 0.00361450 Ha\n",
            "Iteration = 160,  Energy = -0.19195848 Ha,  Convergence parameter = 0.00511056 Ha\n",
            "Iteration = 180,  Energy = -0.31444953 Ha,  Convergence parameter = 0.00708743 Ha\n",
            "Iteration = 200,  Energy = -0.47706980 Ha,  Convergence parameter = 0.00900220 Ha\n",
            "Iteration = 220,  Energy = -0.66993027 Ha,  Convergence parameter = 0.01001574 Ha\n",
            "Iteration = 240,  Energy = -0.86789981 Ha,  Convergence parameter = 0.00955105 Ha\n",
            "Iteration = 260,  Energy = -1.04241317 Ha,  Convergence parameter = 0.00783834 Ha\n",
            "Iteration = 280,  Energy = -1.17653061 Ha,  Convergence parameter = 0.00567546 Ha\n",
            "Iteration = 300,  Energy = -1.26906291 Ha,  Convergence parameter = 0.00374812 Ha\n",
            "Iteration = 320,  Energy = -1.32823089 Ha,  Convergence parameter = 0.00232769 Ha\n",
            "Iteration = 340,  Energy = -1.36424033 Ha,  Convergence parameter = 0.00139097 Ha\n",
            "Iteration = 360,  Energy = -1.38549883 Ha,  Convergence parameter = 0.00081221 Ha\n",
            "Iteration = 380,  Energy = -1.39782393 Ha,  Convergence parameter = 0.00046788 Ha\n",
            "Iteration = 400,  Energy = -1.40489478 Ha,  Convergence parameter = 0.00026743 Ha\n",
            "Iteration = 420,  Energy = -1.40892679 Ha,  Convergence parameter = 0.00015217 Ha\n",
            "Iteration = 440,  Energy = -1.41121801 Ha,  Convergence parameter = 0.00008637 Ha\n",
            "Iteration = 460,  Energy = -1.41251745 Ha,  Convergence parameter = 0.00004895 Ha\n",
            "Iteration = 480,  Energy = -1.41325360 Ha,  Convergence parameter = 0.00002772 Ha\n",
            "\n",
            "Final value of the energy = -1.41365468 Ha\n",
            "Number of iterations =  499\n"
          ]
        }
      ]
    },
    {
      "cell_type": "code",
      "source": [
        "opt = qml.QNGOptimizer(stepsize=step_size, approx=\"block-diag\")\n",
        "\n",
        "params = init_params\n",
        "\n",
        "qngd_param_history = [params]\n",
        "qngd_cost_history = []\n",
        "\n",
        "for n in range(max_iterations):\n",
        "\n",
        "    # Take step\n",
        "    params, prev_energy = opt.step_and_cost(cost_fn, params)\n",
        "    qngd_param_history.append(params)\n",
        "    qngd_cost_history.append(prev_energy)\n",
        "\n",
        "    # Compute energy\n",
        "    energy = cost_fn(params)\n",
        "\n",
        "    # Calculate difference between new and old energies\n",
        "    conv = np.abs(energy - prev_energy)\n",
        "\n",
        "    if n % 20 == 0:\n",
        "        print(\n",
        "            \"Iteration = {:},  Energy = {:.8f} Ha,  Convergence parameter = {\"\n",
        "            \":.8f} Ha\".format(n, energy, conv))\n",
        "        \n",
        "    if conv <= conv_tol:\n",
        "      break\n",
        "\n",
        "print()\n",
        "print(\"Final value of the energy = {:.8f} Ha\".format(energy))\n",
        "print(\"Number of iterations = \", n)"
      ],
      "metadata": {
        "colab": {
          "base_uri": "https://localhost:8080/"
        },
        "id": "spdu3oy8uwec",
        "outputId": "f5a5b1c4-4de4-47ce-f9b3-64730b885d0a"
      },
      "execution_count": null,
      "outputs": [
        {
          "output_type": "stream",
          "name": "stdout",
          "text": [
            "Iteration = 0,  Energy = 0.51052556 Ha,  Convergence parameter = 0.06664604 Ha\n",
            "Iteration = 20,  Energy = -0.90729965 Ha,  Convergence parameter = 0.05006082 Ha\n",
            "Iteration = 40,  Energy = -1.35504644 Ha,  Convergence parameter = 0.00713113 Ha\n",
            "Iteration = 60,  Energy = -1.40833787 Ha,  Convergence parameter = 0.00072399 Ha\n",
            "Iteration = 80,  Energy = -1.41364035 Ha,  Convergence parameter = 0.00007078 Ha\n",
            "Iteration = 100,  Energy = -1.41415774 Ha,  Convergence parameter = 0.00000689 Ha\n",
            "\n",
            "Final value of the energy = -1.41420585 Ha\n",
            "Number of iterations =  117\n"
          ]
        }
      ]
    },
    {
      "cell_type": "code",
      "source": [
        "plt.style.use(\"seaborn\")\n",
        "plt.plot(gd_cost_history, \"b\", label=\"Gradient descent\")\n",
        "plt.plot(qngd_cost_history, \"g\", label=\"Quantum natural gradient descent\")\n",
        "\n",
        "plt.ylabel(\"Cost function value\")\n",
        "plt.xlabel(\"Optimization steps\")\n",
        "plt.legend()\n",
        "plt.show()"
      ],
      "metadata": {
        "colab": {
          "base_uri": "https://localhost:8080/",
          "height": 361
        },
        "id": "jlWysbmBvF56",
        "outputId": "aa87f9ac-7a87-403f-fad0-3f5429ed42eb"
      },
      "execution_count": null,
      "outputs": [
        {
          "output_type": "display_data",
          "data": {
            "text/plain": [
              "<Figure size 576x396 with 1 Axes>"
            ],
            "image/png": "[encoded data removed]"
          },
          "metadata": {}
        }
      ]
    },
    {
      "cell_type": "code",
      "source": [
        "geo_file = \"h2.xyz\"\n",
        "\n",
        "symbols, coordinates = qml.qchem.read_structure(geo_file)\n",
        "hamiltonian, qubits = qml.qchem.molecular_hamiltonian(symbols, coordinates)\n",
        "\n",
        "print(\"Number of qubits = \", qubits)"
      ],
      "metadata": {
        "colab": {
          "base_uri": "https://localhost:8080/"
        },
        "id": "_PTno2blwiTw",
        "outputId": "a97e6973-185e-440f-ae25-99eebac826d7"
      },
      "execution_count": null,
      "outputs": [
        {
          "output_type": "stream",
          "name": "stdout",
          "text": [
            "Number of qubits =  4\n"
          ]
        }
      ]
    },
    {
      "cell_type": "code",
      "source": [],
      "metadata": {
        "colab": {
          "base_uri": "https://localhost:8080/"
        },
        "id": "KvT-k5Ki3QBm",
        "outputId": "e3b6b065-dc52-4a73-ad9a-7ff1f7428e9c"
      },
      "execution_count": null,
      "outputs": [
        {
          "output_type": "execute_result",
          "data": {
            "text/plain": [
              "tensor([ 0.        ,  0.        , -0.66140414,  0.        ,  0.        ,\n",
              "         0.66140414], requires_grad=True)"
            ]
          },
          "metadata": {},
          "execution_count": 27
        }
      ]
    },
    {
      "cell_type": "code",
      "source": [
        "dev = qml.device(\"default.qubit\", wires=qubits)\n",
        "hf_state = np.array([1, 1, 0, 0], requires_grad=False)\n",
        "\n",
        "def ansatz(params, wires=[0, 1, 2, 3]):\n",
        "    qml.BasisState(hf_state, wires=wires)\n",
        "    for i in wires:\n",
        "        qml.RZ(params[3 * i], wires=i)\n",
        "        qml.RY(params[3 * i + 1], wires=i)\n",
        "        qml.RZ(params[3 * i + 2], wires=i)\n",
        "    qml.CNOT(wires=[2, 3])\n",
        "    qml.CNOT(wires=[2, 0])\n",
        "    qml.CNOT(wires=[3, 1])"
      ],
      "metadata": {
        "id": "NyIchjXbw7Q0"
      },
      "execution_count": null,
      "outputs": []
    },
    {
      "cell_type": "code",
      "source": [
        "@qml.qnode(dev)\n",
        "def cost(params):\n",
        "    ansatz(params)\n",
        "    return qml.expval(hamiltonian)"
      ],
      "metadata": {
        "id": "UUsBKa8Lw950"
      },
      "execution_count": null,
      "outputs": []
    },
    {
      "cell_type": "code",
      "source": [
        "np.random.seed(0)\n",
        "init_params = np.random.uniform(low=0, high=2 * np.pi, size=12, requires_grad=True)\n",
        "max_iterations = 500\n",
        "step_size = 0.5\n",
        "conv_tol = 1e-06"
      ],
      "metadata": {
        "id": "8PIYn-XBxB-e"
      },
      "execution_count": null,
      "outputs": []
    },
    {
      "cell_type": "code",
      "source": [
        "exact_value = -1.136189454088"
      ],
      "metadata": {
        "id": "qGgOQT_pxNMP"
      },
      "execution_count": null,
      "outputs": []
    },
    {
      "cell_type": "code",
      "source": [
        "opt = qml.GradientDescentOptimizer(step_size)\n",
        "\n",
        "params = init_params\n",
        "\n",
        "gd_cost = []\n",
        "\n",
        "for n in range(max_iterations):\n",
        "    params, prev_energy = opt.step_and_cost(cost, params)\n",
        "    gd_cost.append(prev_energy)\n",
        "\n",
        "    energy = cost(params)\n",
        "    conv = np.abs(energy - prev_energy)\n",
        "\n",
        "    if n % 20 == 0:\n",
        "        print(\n",
        "            \"Iteration = {:},  Energy = {:.8f} Ha\".format(n, energy)\n",
        "        )\n",
        "\n",
        "    if conv <= conv_tol:\n",
        "        break\n",
        "\n",
        "\n",
        "print()\n",
        "print(\"Final convergence parameter = {:.8f} Ha\".format(conv))\n",
        "print(\"Number of iterations = \", n)\n",
        "print(\"Final value of the ground-state energy = {:.8f} Ha\".format(energy))\n",
        "print(\n",
        "    \"Accuracy with respect to the FCI energy: {:.8f} Ha ({:.8f} kcal/mol)\".format(\n",
        "        np.abs(energy - exact_value), np.abs(energy - exact_value) * 627.503\n",
        "    )\n",
        ")\n",
        "print()\n",
        "print(\"Final circuit parameters = \\n\", params)"
      ],
      "metadata": {
        "colab": {
          "base_uri": "https://localhost:8080/"
        },
        "id": "mpRY_WZTxGU_",
        "outputId": "8821f48e-1f5b-4cc0-87d7-8a5351358eb6"
      },
      "execution_count": null,
      "outputs": [
        {
          "output_type": "stream",
          "name": "stdout",
          "text": [
            "Iteration = 0,  Energy = -0.09424333 Ha\n",
            "Iteration = 20,  Energy = -0.55156841 Ha\n",
            "Iteration = 40,  Energy = -1.12731586 Ha\n",
            "Iteration = 60,  Energy = -1.13583263 Ha\n",
            "Iteration = 80,  Energy = -1.13602366 Ha\n",
            "Iteration = 100,  Energy = -1.13611095 Ha\n",
            "Iteration = 120,  Energy = -1.13615238 Ha\n",
            "\n",
            "Final convergence parameter = 0.00000097 Ha\n",
            "Number of iterations =  130\n",
            "Final value of the ground-state energy = -1.13616398 Ha\n",
            "Accuracy with respect to the FCI energy: 0.00002547 Ha (0.01598212 kcal/mol)\n",
            "\n",
            "Final circuit parameters = \n",
            " [3.44829694e+00 6.28318531e+00 3.78727399e+00 3.42360201e+00\n",
            " 5.09234601e-08 4.05827240e+00 2.74944154e+00 6.07360302e+00\n",
            " 6.24620659e+00 2.40923412e+00 6.28318531e+00 3.32314479e+00]\n"
          ]
        }
      ]
    },
    {
      "cell_type": "code",
      "source": [
        "hamiltonian = qml.Hamiltonian(np.array(hamiltonian.coeffs, requires_grad=False), hamiltonian.ops)\n",
        "\n",
        "opt = qml.QNGOptimizer(step_size, lam=0.001, approx=\"block-diag\")\n",
        "\n",
        "params = init_params\n",
        "prev_energy = cost(params)\n",
        "qngd_cost = []\n",
        "\n",
        "for n in range(max_iterations):\n",
        "    params, prev_energy = opt.step_and_cost(cost, params)\n",
        "    qngd_cost.append(prev_energy)\n",
        "\n",
        "    energy = cost(params)\n",
        "    conv = np.abs(energy - prev_energy)\n",
        "\n",
        "    if n % 4 == 0:\n",
        "        print(\n",
        "            \"Iteration = {:},  Energy = {:.8f} Ha\".format(n, energy)\n",
        "        )\n",
        "\n",
        "    if conv <= conv_tol:\n",
        "        break\n",
        "\n",
        "\n",
        "print(\"\\nFinal convergence parameter = {:.8f} Ha\".format(conv))\n",
        "print(\"Number of iterations = \", n)\n",
        "print(\"Final value of the ground-state energy = {:.8f} Ha\".format(energy))\n",
        "print(\n",
        "    \"Accuracy with respect to the FCI energy: {:.8f} Ha ({:.8f} kcal/mol)\".format(\n",
        "        np.abs(energy - exact_value), np.abs(energy - exact_value) * 627.503\n",
        "    )\n",
        ")\n",
        "print()\n",
        "print(\"Final circuit parameters = \\n\", params)"
      ],
      "metadata": {
        "colab": {
          "base_uri": "https://localhost:8080/"
        },
        "id": "FhcUGwwNxX01",
        "outputId": "a78d9b1c-6206-4ef1-b409-d3ecf54b204c"
      },
      "execution_count": null,
      "outputs": [
        {
          "output_type": "stream",
          "name": "stdout",
          "text": [
            "Iteration = 0,  Energy = -0.32164519 Ha\n",
            "Iteration = 4,  Energy = -0.46875033 Ha\n",
            "Iteration = 8,  Energy = -0.85091050 Ha\n",
            "Iteration = 12,  Energy = -1.13575339 Ha\n",
            "Iteration = 16,  Energy = -1.13618916 Ha\n",
            "\n",
            "Final convergence parameter = 0.00000022 Ha\n",
            "Number of iterations =  17\n",
            "Final value of the ground-state energy = -1.13618938 Ha\n",
            "Accuracy with respect to the FCI energy: 0.00000008 Ha (0.00004850 kcal/mol)\n",
            "\n",
            "Final circuit parameters = \n",
            " [3.44829694e+00 6.28318510e+00 3.78727399e+00 3.42360201e+00\n",
            " 4.03252278e-04 4.05827240e+00 2.74944154e+00 6.07375181e+00\n",
            " 6.28402001e+00 2.40923412e+00 6.28318525e+00 3.32314479e+00]\n"
          ]
        }
      ]
    },
    {
      "cell_type": "code",
      "source": [
        "plt.style.use(\"seaborn\")\n",
        "plt.plot(np.array(gd_cost) - exact_value, \"g\", label=\"Gradient descent\")\n",
        "plt.plot(np.array(qngd_cost) - exact_value, \"k\", label=\"Quantum natural gradient descent\")\n",
        "plt.yscale(\"log\")\n",
        "plt.ylabel(\"Energy difference\")\n",
        "plt.xlabel(\"Step\")\n",
        "plt.legend()\n",
        "plt.show()"
      ],
      "metadata": {
        "colab": {
          "base_uri": "https://localhost:8080/",
          "height": 361
        },
        "id": "meUaAgNRxaK2",
        "outputId": "b7ce9d51-ce99-4274-9786-295fb44d9d98"
      },
      "execution_count": null,
      "outputs": [
        {
          "output_type": "display_data",
          "data": {
            "text/plain": [
              "<Figure size 576x396 with 1 Axes>"
            ],
            "image/png": "[encoded data removed]"
          },
          "metadata": {}
        }
      ]
    }
  ]
}